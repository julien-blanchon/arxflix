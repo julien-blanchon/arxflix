{
 "cells": [
  {
   "cell_type": "code",
   "execution_count": null,
   "metadata": {},
   "outputs": [],
   "source": [
    "from pathlib import Path\n",
    "import requests\n",
    "from datetime import datetime\n",
    "from bs4 import BeautifulSoup\n",
    "from backend.main import generate_video, generate_script, generate_paper, generate_assets, publish_post_command\n",
    "from dataclasses import dataclass\n",
    "\n",
    "# For notebook usage we need to apply the nest_asyncio patch\n",
    "# !pip install nest_asyncio\n",
    "import nest_asyncio\n",
    "nest_asyncio.apply()"
   ]
  },
  {
   "cell_type": "code",
   "execution_count": null,
   "metadata": {},
   "outputs": [],
   "source": [
    "root_path = Path(\"./pipeline\")\n",
    "root_path"
   ]
  },
  {
   "cell_type": "code",
   "execution_count": null,
   "metadata": {},
   "outputs": [],
   "source": [
    "paper_id = \"2406.04325\""
   ]
  },
  {
   "cell_type": "code",
   "execution_count": null,
   "metadata": {},
   "outputs": [],
   "source": [
    "def get_html_paper_url(paper_id: str) -> str | None:\n",
    "    url = f\"https://ar5iv.org/html/{paper_id}/\"\n",
    "    response = requests.get(url)\n",
    "    if \"arxiv.org/abs/\" not in response.url:\n",
    "        return url\n",
    "\n",
    "    url = f\"https://arxiv.org/html/{paper_id}\"\n",
    "    response = requests.get(url)\n",
    "    if response.status_code == 200:\n",
    "        return url\n",
    "    return None\n"
   ]
  },
  {
   "cell_type": "code",
   "execution_count": null,
   "metadata": {},
   "outputs": [],
   "source": [
    "url = get_html_paper_url(paper_id)\n",
    "url"
   ]
  },
  {
   "cell_type": "code",
   "execution_count": null,
   "metadata": {},
   "outputs": [],
   "source": [
    "paper_root = root_path / paper_id\n",
    "paper_root.mkdir(exist_ok=True)"
   ]
  },
  {
   "cell_type": "code",
   "execution_count": null,
   "metadata": {},
   "outputs": [],
   "source": [
    "paper_md_target = (paper_root / \"paper\").with_suffix(\".md\")\n",
    "paper_md = generate_paper(url, store=paper_md_target.absolute().as_posix())"
   ]
  },
  {
   "cell_type": "code",
   "execution_count": null,
   "metadata": {},
   "outputs": [],
   "source": [
    "script_txt_target = (paper_root / \"script\").with_suffix(\".txt\")\n",
    "script_txt, intro_txt = generate_script(paper_md, url=url, use_path=False, store=script_txt_target.absolute().as_posix())\n",
    "title, figure_url = intro_txt.split(\"\\n\")"
   ]
  },
  {
   "cell_type": "code",
   "execution_count": null,
   "metadata": {},
   "outputs": [],
   "source": [
    "total_duration = generate_assets(\n",
    "    script=script_txt,\n",
    "    use_path=False,\n",
    "    mp3_output=(paper_root / \"audio\").with_suffix(\".wav\").absolute().as_posix(),\n",
    "    srt_output=(paper_root / \"subtitles\").with_suffix(\".srt\").absolute().as_posix(),\n",
    "    rich_output=(paper_root / \"rich\").with_suffix(\".json\").absolute().as_posix(),\n",
    ")"
   ]
  },
  {
   "cell_type": "code",
   "execution_count": null,
   "metadata": {},
   "outputs": [],
   "source": [
    "output_video = (paper_root / \"video\").with_suffix(\".mp4\")\n",
    "generate_video(\n",
    "    input_dir = paper_root,\n",
    "    output_video = output_video,\n",
    ")"
   ]
  },
  {
   "cell_type": "code",
   "execution_count": null,
   "metadata": {},
   "outputs": [],
   "source": [
    "output_video = (paper_root / \"video\").with_suffix(\".mp4\")\n",
    "output_video"
   ]
  }
 ],
 "metadata": {
  "kernelspec": {
   "display_name": ".venv",
   "language": "python",
   "name": "python3"
  },
  "language_info": {
   "codemirror_mode": {
    "name": "ipython",
    "version": 3
   },
   "file_extension": ".py",
   "mimetype": "text/x-python",
   "name": "python",
   "nbconvert_exporter": "python",
   "pygments_lexer": "ipython3",
   "version": "3.10.12"
  }
 },
 "nbformat": 4,
 "nbformat_minor": 2
}
